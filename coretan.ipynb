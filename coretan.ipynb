{
 "cells": [
  {
   "cell_type": "code",
   "execution_count": 23,
   "metadata": {},
   "outputs": [],
   "source": [
    "import pyodbc\n",
    "import pandas as pd\n",
    "from dotenv import load_dotenv\n",
    "import os"
   ]
  },
  {
   "cell_type": "code",
   "execution_count": 73,
   "metadata": {},
   "outputs": [
    {
     "data": {
      "text/plain": [
       "<module 'load' from 'c:\\\\Users\\\\ASUS\\\\Desktop\\\\Project\\\\etl-pipeline-bps\\\\load.py'>"
      ]
     },
     "execution_count": 73,
     "metadata": {},
     "output_type": "execute_result"
    }
   ],
   "source": [
    "import connector.database as dbConnector\n",
    "import extract as e\n",
    "import transform as t\n",
    "import load as l\n",
    "# library untuk mereload library yang kita buat. \n",
    "# tanpa ini, perubahan di self-made library bakal ngga kerekam \n",
    "import importlib\n",
    "importlib.reload(dbConnector)\n",
    "importlib.reload(e)\n",
    "importlib.reload(t)\n",
    "importlib.reload(l)"
   ]
  },
  {
   "cell_type": "code",
   "execution_count": 79,
   "metadata": {},
   "outputs": [
    {
     "name": "stdout",
     "output_type": "stream",
     "text": [
      "success load to csv\n"
     ]
    }
   ],
   "source": [
    "\n",
    "sqlServerConnection = dbConnector.SQLServerConnection(driver=os.getenv('DRIVER'),\n",
    "                                                      server=os.getenv('DB_SERVER'),\n",
    "                                                      database = os.getenv('DATABASE'),\n",
    "                                                      user_id = os.getenv('UID'),\n",
    "                                                      password = os.getenv('PASSWORD'))\n",
    "sqlServerConnection.connect()\n",
    "\n",
    "# Extract from sql server db\n",
    "extractor = e.Extract()\n",
    "query = \"select top(3) * from Regsosek22.dbo.tab_view_k where [r407] <= 4 AND [r427] IS NULL\"\n",
    "queryResult, columns = extractor.FromDb(sqlServerConnection, query)\n",
    "\n",
    "# Transform to dataframe\n",
    "transformer = t.Transform()\n",
    "transformedData = transformer.queryResultToDF(queryResult, columns)\n",
    "transformedData.head()\n",
    "\n",
    "# Load to csv\n",
    "loader = l.Load()\n",
    "loader.ToFSCSV(transformedData, 'hasil/test.csv')\n",
    "\n"
   ]
  }
 ],
 "metadata": {
  "kernelspec": {
   "display_name": "etl_pipeline",
   "language": "python",
   "name": "python3"
  },
  "language_info": {
   "codemirror_mode": {
    "name": "ipython",
    "version": 3
   },
   "file_extension": ".py",
   "mimetype": "text/x-python",
   "name": "python",
   "nbconvert_exporter": "python",
   "pygments_lexer": "ipython3",
   "version": "3.8.7"
  },
  "orig_nbformat": 4,
  "vscode": {
   "interpreter": {
    "hash": "31b8559659519f2ada952f6fc445cd16e42e65058eb84277167849388fb90e67"
   }
  }
 },
 "nbformat": 4,
 "nbformat_minor": 2
}
